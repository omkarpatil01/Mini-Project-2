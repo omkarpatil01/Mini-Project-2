{
 "cells": [
  {
   "cell_type": "code",
   "execution_count": 8,
   "id": "3335b0ad",
   "metadata": {},
   "outputs": [],
   "source": [
    "#import libraries\n",
    "from keras.models import *\n",
    "from keras.layers import *\n",
    "\n",
    "#declare size of img\n",
    "sz = 128"
   ]
  },
  {
   "cell_type": "code",
   "execution_count": 9,
   "id": "af286b9c",
   "metadata": {},
   "outputs": [
    {
     "name": "stdout",
     "output_type": "stream",
     "text": [
      "Model: \"sequential_2\"\n",
      "_________________________________________________________________\n",
      "Layer (type)                 Output Shape              Param #   \n",
      "=================================================================\n",
      "conv2d_4 (Conv2D)            (None, 126, 126, 32)      320       \n",
      "_________________________________________________________________\n",
      "max_pooling2d_4 (MaxPooling2 (None, 63, 63, 32)        0         \n",
      "_________________________________________________________________\n",
      "conv2d_5 (Conv2D)            (None, 61, 61, 32)        9248      \n",
      "_________________________________________________________________\n",
      "max_pooling2d_5 (MaxPooling2 (None, 30, 30, 32)        0         \n",
      "_________________________________________________________________\n",
      "flatten_2 (Flatten)          (None, 28800)             0         \n",
      "_________________________________________________________________\n",
      "dense_8 (Dense)              (None, 128)               3686528   \n",
      "_________________________________________________________________\n",
      "dropout_4 (Dropout)          (None, 128)               0         \n",
      "_________________________________________________________________\n",
      "dense_9 (Dense)              (None, 96)                12384     \n",
      "_________________________________________________________________\n",
      "dropout_5 (Dropout)          (None, 96)                0         \n",
      "_________________________________________________________________\n",
      "dense_10 (Dense)             (None, 64)                6208      \n",
      "_________________________________________________________________\n",
      "dense_11 (Dense)             (None, 27)                1755      \n",
      "=================================================================\n",
      "Total params: 3,716,443\n",
      "Trainable params: 3,716,443\n",
      "Non-trainable params: 0\n",
      "_________________________________________________________________\n"
     ]
    }
   ],
   "source": [
    "# Step 1 - Building the CNN\n",
    "\n",
    "# Initializing the CNN\n",
    "classifier = Sequential()\n",
    "\n",
    "# First convolution layer and pooling\n",
    "classifier.add(Convolution2D(32, (3, 3), input_shape=(sz, sz, 1), activation='relu'))\n",
    "classifier.add(MaxPooling2D(pool_size=(2, 2)))\n",
    "\n",
    "# Second convolution layer and pooling\n",
    "classifier.add(Convolution2D(32, (3, 3), activation='relu'))\n",
    "# input_shape is going to be the pooled feature maps from the previous convolution layer\n",
    "classifier.add(MaxPooling2D(pool_size=(2, 2)))\n",
    "\n",
    "\n",
    "# Flattening the layers\n",
    "classifier.add(Flatten())\n",
    "\n",
    "# Adding a fully connected layer\n",
    "classifier.add(Dense(units=128, activation='relu'))\n",
    "classifier.add(Dropout(0.40))\n",
    "classifier.add(Dense(units=96, activation='relu'))\n",
    "classifier.add(Dropout(0.40))\n",
    "classifier.add(Dense(units=64, activation='relu'))\n",
    "classifier.add(Dense(units=27, activation='softmax')) # softmax for more than 2\n",
    "\n",
    "classifier.summary()\n"
   ]
  },
  {
   "cell_type": "code",
   "execution_count": 10,
   "id": "4a64e7f9",
   "metadata": {},
   "outputs": [],
   "source": [
    "# Compiling the CNN\n",
    "classifier.compile(optimizer='adam', loss='categorical_crossentropy', metrics=['accuracy']) # categorical_crossentropy for more than 2"
   ]
  },
  {
   "cell_type": "code",
   "execution_count": 11,
   "id": "3a54e09f",
   "metadata": {},
   "outputs": [
    {
     "name": "stdout",
     "output_type": "stream",
     "text": [
      "Found 12845 images belonging to 27 classes.\n",
      "Found 4268 images belonging to 27 classes.\n"
     ]
    }
   ],
   "source": [
    "# Step 2 - Preparing the train/test data and training the model\n",
    "from keras.preprocessing.image import ImageDataGenerator\n",
    "\n",
    "train_datagen = ImageDataGenerator(\n",
    "        rescale=1./255,\n",
    "        shear_range=0.2,\n",
    "        zoom_range=0.2,\n",
    "        horizontal_flip=True)\n",
    "\n",
    "test_datagen = ImageDataGenerator(rescale=1./255)\n",
    "\n",
    "training_set = train_datagen.flow_from_directory('train',\n",
    "                                                 target_size=(sz, sz),\n",
    "                                                 batch_size=10,\n",
    "                                                 color_mode='grayscale',\n",
    "                                                 class_mode='categorical')\n",
    "\n",
    "test_set = test_datagen.flow_from_directory('test',\n",
    "                                            target_size=(sz , sz),\n",
    "                                            batch_size=10,\n",
    "                                            color_mode='grayscale',\n",
    "                                            class_mode='categorical')"
   ]
  },
  {
   "cell_type": "code",
   "execution_count": 12,
   "id": "a8a528a3",
   "metadata": {},
   "outputs": [
    {
     "name": "stdout",
     "output_type": "stream",
     "text": [
      "Epoch 1/10\n",
      "1285/1285 [==============================] - 519s 400ms/step - loss: 1.9630 - accuracy: 0.3905 - val_loss: 0.4726 - val_accuracy: 0.8599\n",
      "Epoch 2/10\n",
      "1285/1285 [==============================] - 211s 164ms/step - loss: 0.9230 - accuracy: 0.6830 - val_loss: 0.1786 - val_accuracy: 0.9541\n",
      "Epoch 3/10\n",
      "1285/1285 [==============================] - 175s 136ms/step - loss: 0.6312 - accuracy: 0.7825 - val_loss: 0.0977 - val_accuracy: 0.9815\n",
      "Epoch 4/10\n",
      "1285/1285 [==============================] - 179s 139ms/step - loss: 0.4804 - accuracy: 0.8407 - val_loss: 0.0474 - val_accuracy: 0.9920\n",
      "Epoch 5/10\n",
      "1285/1285 [==============================] - 172s 134ms/step - loss: 0.3966 - accuracy: 0.8694 - val_loss: 0.0306 - val_accuracy: 0.9916\n",
      "Epoch 6/10\n",
      "1285/1285 [==============================] - 173s 135ms/step - loss: 0.3600 - accuracy: 0.8808 - val_loss: 0.0215 - val_accuracy: 0.9951\n",
      "Epoch 7/10\n",
      "1285/1285 [==============================] - 173s 135ms/step - loss: 0.2964 - accuracy: 0.9048 - val_loss: 0.0171 - val_accuracy: 0.9958\n",
      "Epoch 8/10\n",
      "1285/1285 [==============================] - 173s 135ms/step - loss: 0.2870 - accuracy: 0.9071 - val_loss: 0.0109 - val_accuracy: 0.9972\n",
      "Epoch 9/10\n",
      "1285/1285 [==============================] - 175s 136ms/step - loss: 0.2484 - accuracy: 0.9200 - val_loss: 0.0077 - val_accuracy: 0.9984\n",
      "Epoch 10/10\n",
      "1285/1285 [==============================] - 177s 138ms/step - loss: 0.2413 - accuracy: 0.9242 - val_loss: 0.0065 - val_accuracy: 0.9993\n"
     ]
    }
   ],
   "source": [
    "#fitting the model\n",
    "h = classifier.fit(training_set,validation_data=test_set,epochs = 10, batch_size=128,shuffle = True)"
   ]
  },
  {
   "cell_type": "code",
   "execution_count": 13,
   "id": "3aeb56e3",
   "metadata": {},
   "outputs": [],
   "source": [
    "#Save the model\n",
    "model_json = classifier.to_json()\n",
    "with open(\"model-bw.json\", \"w\") as json_file:\n",
    "    json_file.write(model_json)\n",
    "print('Model Saved')\n",
    "classifier.save_weights('model-bw.h5')\n",
    "print('Weights saved')\n"
   ]
  }
 ],
 "metadata": {
  "kernelspec": {
   "display_name": "Python 3 (ipykernel)",
   "language": "python",
   "name": "python3"
  },
  "language_info": {
   "codemirror_mode": {
    "name": "ipython",
    "version": 3
   },
   "file_extension": ".py",
   "mimetype": "text/x-python",
   "name": "python",
   "nbconvert_exporter": "python",
   "pygments_lexer": "ipython3",
   "version": "3.9.7"
  }
 },
 "nbformat": 4,
 "nbformat_minor": 5
}
